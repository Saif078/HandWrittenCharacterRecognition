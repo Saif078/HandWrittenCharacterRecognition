{
 "cells": [
  {
   "cell_type": "code",
   "execution_count": 1,
   "metadata": {},
   "outputs": [],
   "source": [
    "import cv2"
   ]
  },
  {
   "cell_type": "code",
   "execution_count": 2,
   "metadata": {},
   "outputs": [],
   "source": [
    "input_img = cv2.imread(\"test_images/ph.jfif\")"
   ]
  },
  {
   "cell_type": "code",
   "execution_count": 3,
   "metadata": {},
   "outputs": [],
   "source": [
    "cv2.imshow(\"Image 0: \", input_img)\n",
    "cv2.waitKey(0)\n",
    "cv2.destroyAllWindows()"
   ]
  },
  {
   "cell_type": "markdown",
   "metadata": {},
   "source": [
    "grayscale image has values from 0 to 255\n",
    ", black and white image has only two values 0 and 1"
   ]
  },
  {
   "cell_type": "code",
   "execution_count": 4,
   "metadata": {},
   "outputs": [],
   "source": [
    "#Convert the image to grayscale\n",
    "input_img = cv2.imread(\"test_images/ph.jfif\", 0 )\n",
    "cv2.imshow(\"Image 0: \", input_img)\n",
    "\n",
    "#Save the image\n",
    "cv2.imwrite('test_images/gray_scale.png', input_img)\n",
    "\n",
    "#draw rectangle\n",
    "cv2.rectangle(input_img, (0,0), (200, 200), (0,0,255), 2)\n",
    "cv2.imshow(\"Image 0: \", input_img)\n",
    "\n",
    "cv2.waitKey(0)\n",
    "cv2.destroyAllWindows()"
   ]
  },
  {
   "cell_type": "code",
   "execution_count": 5,
   "metadata": {},
   "outputs": [
    {
     "name": "stdout",
     "output_type": "stream",
     "text": [
      "0 8\n"
     ]
    }
   ],
   "source": [
    "#Black and White\n",
    "#Here we have Single Threshold \n",
    "\n",
    "#Gray Scale\n",
    "input_img = cv2.imread(\"test_images/ph.jfif\", 0)\n",
    "\n",
    "#Parameters\n",
    "print(cv2.THRESH_BINARY, cv2.THRESH_OTSU)\n",
    "\n",
    "#Turn Black and White\n",
    "(thresh, im_bw) = cv2.threshold(input_img, 60, 255, cv2.THRESH_OTSU)\n",
    "\n",
    "#Display\n",
    "cv2.imshow(\"Image 0: \", im_bw)\n",
    "\n",
    "#Save\n",
    "cv2.imwrite(\"test_images/black_white.png\", im_bw)\n",
    "\n",
    "cv2.waitKey(0)\n",
    "cv2.destroyAllWindows()"
   ]
  },
  {
   "cell_type": "code",
   "execution_count": 6,
   "metadata": {},
   "outputs": [
    {
     "name": "stdout",
     "output_type": "stream",
     "text": [
      "0 8\n"
     ]
    }
   ],
   "source": [
    "#Black and White\n",
    "#Here we have Adaptive Threshold \n",
    "\n",
    "#Gray Scale\n",
    "input_img = cv2.imread(\"test_images/ph.jfif\", 0)\n",
    "\n",
    "#Parameters\n",
    "print(cv2.THRESH_BINARY, cv2.THRESH_OTSU)\n",
    "\n",
    "#Turn Black and White\n",
    "(thresh, im_bw) = cv2.threshold(input_img, 128, 255, cv2.THRESH_OTSU)\n",
    "\n",
    "th2 = cv2.adaptiveThreshold(input_img, 255, cv2.ADAPTIVE_THRESH_MEAN_C, cv2.THRESH_BINARY, 7, 5)\n",
    "\n",
    "#Display\n",
    "cv2.imshow(\"Image 0: \", th2)\n",
    "\n",
    "#Save\n",
    "cv2.imwrite(\"test_images/adaptive_thresh_black_white.png\", th2)\n",
    "\n",
    "cv2.waitKey(0)\n",
    "cv2.destroyAllWindows()"
   ]
  }
 ],
 "metadata": {
  "kernelspec": {
   "display_name": "Python 3",
   "language": "python",
   "name": "python3"
  },
  "language_info": {
   "codemirror_mode": {
    "name": "ipython",
    "version": 3
   },
   "file_extension": ".py",
   "mimetype": "text/x-python",
   "name": "python",
   "nbconvert_exporter": "python",
   "pygments_lexer": "ipython3",
   "version": "3.8.3"
  }
 },
 "nbformat": 4,
 "nbformat_minor": 4
}
