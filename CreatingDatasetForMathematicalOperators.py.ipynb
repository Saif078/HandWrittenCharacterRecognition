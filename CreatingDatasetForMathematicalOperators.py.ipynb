{
 "cells": [
  {
   "cell_type": "code",
   "execution_count": 1,
   "metadata": {},
   "outputs": [],
   "source": [
    "import cv2, os\n",
    "import numpy as np\n",
    "import csv\n",
    "import glob\n",
    "import pandas as pd\n",
    "import matplotlib.pyplot as plt"
   ]
  },
  {
   "cell_type": "markdown",
   "metadata": {},
   "source": [
    "# For PLUS SIGN"
   ]
  },
  {
   "cell_type": "code",
   "execution_count": 2,
   "metadata": {},
   "outputs": [
    {
     "name": "stdout",
     "output_type": "stream",
     "text": [
      "0.png\n",
      "1.png\n",
      "2.png\n",
      "3.png\n",
      "4.png\n",
      "5.png\n",
      "6.png\n",
      "7.png\n",
      "8.png\n",
      "9.png\n"
     ]
    }
   ],
   "source": [
    "label = \"plus\"\n",
    "dataR = np.array([])\n",
    "x = 1\n",
    "\n",
    "dirList = glob.glob(\"Images/\" + label + \"/\" +\"*png\")\n",
    "dirList\n",
    "\n",
    "for img_path in dirList:\n",
    "    \n",
    "    file_name = img_path.split(\"\\\\\")[1]\n",
    "    print(file_name)\n",
    "\n",
    "    img = cv2.imread(img_path, 0)\n",
    "    img = cv2.GaussianBlur(img, (15, 15), 0)\n",
    "    img = cv2.resize(img, (28,28), interpolation = cv2.INTER_AREA)\n",
    "\n",
    "    dataR = np.append(dataR, label)\n",
    "    rows, cols = img.shape\n",
    "\n",
    "    for i in range(rows):\n",
    "        for j in range(cols):\n",
    "            k = img[i, j]\n",
    "            dataR = np.append(dataR, k)\n",
    "\n",
    "    dataR = np.resize(dataR, (x, 785))\n",
    "    \n",
    "    x = x + 1"
   ]
  },
  {
   "cell_type": "code",
   "execution_count": 3,
   "metadata": {},
   "outputs": [
    {
     "name": "stdout",
     "output_type": "stream",
     "text": [
      "plus\n"
     ]
    }
   ],
   "source": [
    "print((dataR[0][0]))"
   ]
  },
  {
   "cell_type": "code",
   "execution_count": 4,
   "metadata": {},
   "outputs": [],
   "source": [
    "target = np.array([])\n",
    "\n",
    "for i in range(10):\n",
    "    target = np.append(target, dataR[i][0])"
   ]
  },
  {
   "cell_type": "code",
   "execution_count": 5,
   "metadata": {},
   "outputs": [
    {
     "name": "stdout",
     "output_type": "stream",
     "text": [
      "['plus' 'plus' 'plus' 'plus' 'plus' 'plus' 'plus' 'plus' 'plus' 'plus']\n"
     ]
    }
   ],
   "source": [
    "print(target)"
   ]
  },
  {
   "cell_type": "code",
   "execution_count": 6,
   "metadata": {},
   "outputs": [],
   "source": [
    "data = np.array([])\n",
    "x = 1\n",
    "for i in range(10):\n",
    "    data = np.append(data, dataR[i][1:])\n",
    "    data = np.resize(data, (x, 784))\n",
    "    x = x + 1"
   ]
  },
  {
   "cell_type": "code",
   "execution_count": 7,
   "metadata": {},
   "outputs": [
    {
     "data": {
      "text/plain": [
       "(10, 784)"
      ]
     },
     "execution_count": 7,
     "metadata": {},
     "output_type": "execute_result"
    }
   ],
   "source": [
    "data.shape"
   ]
  },
  {
   "cell_type": "code",
   "execution_count": 8,
   "metadata": {},
   "outputs": [
    {
     "data": {
      "text/plain": [
       "(10,)"
      ]
     },
     "execution_count": 8,
     "metadata": {},
     "output_type": "execute_result"
    }
   ],
   "source": [
    "target.shape"
   ]
  },
  {
   "cell_type": "code",
   "execution_count": 9,
   "metadata": {},
   "outputs": [
    {
     "data": {
      "text/plain": [
       "(10, 785)"
      ]
     },
     "execution_count": 9,
     "metadata": {},
     "output_type": "execute_result"
    }
   ],
   "source": [
    "dataR.shape"
   ]
  },
  {
   "cell_type": "code",
   "execution_count": 10,
   "metadata": {},
   "outputs": [
    {
     "data": {
      "text/plain": [
       "'plus'"
      ]
     },
     "execution_count": 10,
     "metadata": {},
     "output_type": "execute_result"
    }
   ],
   "source": [
    "dataR[0][0]"
   ]
  },
  {
   "cell_type": "code",
   "execution_count": 11,
   "metadata": {},
   "outputs": [
    {
     "data": {
      "text/plain": [
       "'plus'"
      ]
     },
     "execution_count": 11,
     "metadata": {},
     "output_type": "execute_result"
    }
   ],
   "source": [
    "dataR[9][0]"
   ]
  },
  {
   "cell_type": "markdown",
   "metadata": {},
   "source": [
    "# For MINUS SIGN"
   ]
  },
  {
   "cell_type": "code",
   "execution_count": 12,
   "metadata": {},
   "outputs": [
    {
     "name": "stdout",
     "output_type": "stream",
     "text": [
      "0.png\n",
      "1.png\n",
      "2.png\n",
      "3.png\n",
      "4.png\n",
      "5.png\n",
      "6.png\n",
      "7.png\n",
      "8.png\n",
      "9.png\n"
     ]
    }
   ],
   "source": [
    "label = \"minus\"\n",
    "x = 11\n",
    "\n",
    "dirList = glob.glob(\"Images/\" + label + \"/\" +\"*png\")\n",
    "dirList\n",
    "\n",
    "for img_path in dirList:\n",
    "    \n",
    "    file_name = img_path.split(\"\\\\\")[1]\n",
    "    print(file_name)\n",
    "\n",
    "    img = cv2.imread(img_path, 0)\n",
    "    img = cv2.GaussianBlur(img, (15, 15), 0)\n",
    "    img = cv2.resize(img, (28,28), interpolation = cv2.INTER_AREA)\n",
    "\n",
    "    dataR = np.append(dataR, label)\n",
    "    rows, cols = img.shape\n",
    "\n",
    "    for i in range(rows):\n",
    "        for j in range(cols):\n",
    "            k = img[i, j]\n",
    "            dataR = np.append(dataR, k)\n",
    "\n",
    "    dataR = np.resize(dataR, (x, 785))\n",
    "    \n",
    "    x = x + 1"
   ]
  },
  {
   "cell_type": "code",
   "execution_count": 13,
   "metadata": {},
   "outputs": [
    {
     "name": "stdout",
     "output_type": "stream",
     "text": [
      "minus\n"
     ]
    }
   ],
   "source": [
    "print(dataR[19][0])"
   ]
  },
  {
   "cell_type": "code",
   "execution_count": 14,
   "metadata": {},
   "outputs": [],
   "source": [
    "for i in range(10, 20):\n",
    "    target = np.append(target, dataR[i][0])"
   ]
  },
  {
   "cell_type": "code",
   "execution_count": 15,
   "metadata": {},
   "outputs": [
    {
     "name": "stdout",
     "output_type": "stream",
     "text": [
      "['plus' 'plus' 'plus' 'plus' 'plus' 'plus' 'plus' 'plus' 'plus' 'plus'\n",
      " 'minus' 'minus' 'minus' 'minus' 'minus' 'minus' 'minus' 'minus' 'minus'\n",
      " 'minus']\n"
     ]
    }
   ],
   "source": [
    "print(target)"
   ]
  },
  {
   "cell_type": "code",
   "execution_count": 16,
   "metadata": {},
   "outputs": [],
   "source": [
    "x = 11\n",
    "for i in range(10, 20):\n",
    "    data = np.append(data, dataR[i][1:])\n",
    "    data = np.resize(data, (x, 784))\n",
    "    x = x + 1"
   ]
  },
  {
   "cell_type": "markdown",
   "metadata": {},
   "source": [
    "# For MULTIPLY SIGN"
   ]
  },
  {
   "cell_type": "code",
   "execution_count": 17,
   "metadata": {},
   "outputs": [
    {
     "name": "stdout",
     "output_type": "stream",
     "text": [
      "0.png\n",
      "1.png\n",
      "2.png\n",
      "3.png\n",
      "4.png\n",
      "5.png\n",
      "6.png\n",
      "7.png\n",
      "8.png\n",
      "9.png\n"
     ]
    }
   ],
   "source": [
    "label = \"multiply\"\n",
    "x = 21\n",
    "\n",
    "dirList = glob.glob(\"Images/\" + label + \"/\" +\"*png\")\n",
    "dirList\n",
    "\n",
    "for img_path in dirList:\n",
    "    \n",
    "    file_name = img_path.split(\"\\\\\")[1]\n",
    "    print(file_name)\n",
    "\n",
    "    img = cv2.imread(img_path, 0)\n",
    "    img = cv2.GaussianBlur(img, (15, 15), 0)\n",
    "    img = cv2.resize(img, (28,28), interpolation = cv2.INTER_AREA)\n",
    "\n",
    "    dataR = np.append(dataR, label)\n",
    "    rows, cols = img.shape\n",
    "\n",
    "    for i in range(rows):\n",
    "        for j in range(cols):\n",
    "            k = img[i, j]\n",
    "            dataR = np.append(dataR, k)\n",
    "\n",
    "    dataR = np.resize(dataR, (x, 785))\n",
    "    \n",
    "    x = x + 1"
   ]
  },
  {
   "cell_type": "code",
   "execution_count": 18,
   "metadata": {},
   "outputs": [
    {
     "name": "stdout",
     "output_type": "stream",
     "text": [
      "multiply\n"
     ]
    }
   ],
   "source": [
    "print(dataR[29][0])"
   ]
  },
  {
   "cell_type": "code",
   "execution_count": 19,
   "metadata": {},
   "outputs": [],
   "source": [
    "for i in range(20, 30):\n",
    "    target = np.append(target, dataR[i][0])"
   ]
  },
  {
   "cell_type": "code",
   "execution_count": 20,
   "metadata": {},
   "outputs": [
    {
     "name": "stdout",
     "output_type": "stream",
     "text": [
      "['plus' 'plus' 'plus' 'plus' 'plus' 'plus' 'plus' 'plus' 'plus' 'plus'\n",
      " 'minus' 'minus' 'minus' 'minus' 'minus' 'minus' 'minus' 'minus' 'minus'\n",
      " 'minus' 'multiply' 'multiply' 'multiply' 'multiply' 'multiply' 'multiply'\n",
      " 'multiply' 'multiply' 'multiply' 'multiply']\n"
     ]
    }
   ],
   "source": [
    "print(target)"
   ]
  },
  {
   "cell_type": "code",
   "execution_count": 21,
   "metadata": {},
   "outputs": [],
   "source": [
    "x = 21\n",
    "for i in range(20, 30):\n",
    "    data = np.append(data, dataR[i][1:])\n",
    "    data = np.resize(data, (x, 784))\n",
    "    x = x + 1"
   ]
  },
  {
   "cell_type": "markdown",
   "metadata": {},
   "source": [
    "# For DIVIDE SIGN"
   ]
  },
  {
   "cell_type": "code",
   "execution_count": 22,
   "metadata": {},
   "outputs": [
    {
     "name": "stdout",
     "output_type": "stream",
     "text": [
      "0.png\n",
      "1.png\n",
      "2.png\n",
      "3.png\n",
      "4.png\n",
      "5.png\n",
      "6.png\n",
      "7.png\n",
      "8.png\n",
      "9.png\n"
     ]
    }
   ],
   "source": [
    "label = \"divide\"\n",
    "x = 31\n",
    "\n",
    "dirList = glob.glob(\"Images/\" + label + \"/\" +\"*png\")\n",
    "dirList\n",
    "\n",
    "for img_path in dirList:\n",
    "    \n",
    "    file_name = img_path.split(\"\\\\\")[1]\n",
    "    print(file_name)\n",
    "\n",
    "    img = cv2.imread(img_path, 0)\n",
    "    img = cv2.GaussianBlur(img, (15, 15), 0)\n",
    "    img = cv2.resize(img, (28,28), interpolation = cv2.INTER_AREA)\n",
    "\n",
    "    dataR = np.append(dataR, label)\n",
    "    rows, cols = img.shape\n",
    "\n",
    "    for i in range(rows):\n",
    "        for j in range(cols):\n",
    "            k = img[i, j]\n",
    "            dataR = np.append(dataR, k)\n",
    "\n",
    "    dataR = np.resize(dataR, (x, 785))\n",
    "    \n",
    "    x = x + 1"
   ]
  },
  {
   "cell_type": "code",
   "execution_count": 23,
   "metadata": {},
   "outputs": [
    {
     "name": "stdout",
     "output_type": "stream",
     "text": [
      "divide\n"
     ]
    }
   ],
   "source": [
    "print(dataR[39][0])"
   ]
  },
  {
   "cell_type": "code",
   "execution_count": 24,
   "metadata": {},
   "outputs": [],
   "source": [
    "for i in range(30, 40):\n",
    "    target = np.append(target, dataR[i][0])"
   ]
  },
  {
   "cell_type": "code",
   "execution_count": 25,
   "metadata": {},
   "outputs": [
    {
     "name": "stdout",
     "output_type": "stream",
     "text": [
      "['plus' 'plus' 'plus' 'plus' 'plus' 'plus' 'plus' 'plus' 'plus' 'plus'\n",
      " 'minus' 'minus' 'minus' 'minus' 'minus' 'minus' 'minus' 'minus' 'minus'\n",
      " 'minus' 'multiply' 'multiply' 'multiply' 'multiply' 'multiply' 'multiply'\n",
      " 'multiply' 'multiply' 'multiply' 'multiply' 'divide' 'divide' 'divide'\n",
      " 'divide' 'divide' 'divide' 'divide' 'divide' 'divide' 'divide']\n"
     ]
    }
   ],
   "source": [
    "print(target)"
   ]
  },
  {
   "cell_type": "code",
   "execution_count": 26,
   "metadata": {},
   "outputs": [],
   "source": [
    "x = 31\n",
    "for i in range(30, 40):\n",
    "    data = np.append(data, dataR[i][1:])\n",
    "    data = np.resize(data, (x, 784))\n",
    "    x = x + 1"
   ]
  },
  {
   "cell_type": "code",
   "execution_count": 27,
   "metadata": {
    "scrolled": false
   },
   "outputs": [
    {
     "name": "stdout",
     "output_type": "stream",
     "text": [
      "data shape: (40, 784)\n",
      "target shape: (40,)\n",
      "dataR shape: (40, 785)\n",
      "\n",
      "dataR[0][0]:  plus\n",
      "dataR[9][0]:  plus\n",
      "dataR[10][0]:  minus\n",
      "dataR[19][0]:  minus\n",
      "dataR[20][0]:  multiply\n",
      "dataR[29][0]:  multiply\n",
      "dataR[30][0]:  divide\n",
      "dataR[39][0]:  divide\n",
      "\n",
      "target[0]:  plus\n",
      "target[9]:  plus\n",
      "target[10]:  minus\n",
      "target[19]:  minus\n",
      "target[20]:  multiply\n",
      "target[29]:  multiply\n",
      "target[30]:  divide\n",
      "target[39]:  divide\n"
     ]
    }
   ],
   "source": [
    "print(\"data shape:\", data.shape)\n",
    "print(\"target shape:\", target.shape)\n",
    "print(\"dataR shape:\", dataR.shape)\n",
    "print()\n",
    "print(\"dataR[0][0]: \", dataR[0][0])\n",
    "print(\"dataR[9][0]: \", dataR[9][0])\n",
    "print(\"dataR[10][0]: \", dataR[10][0])\n",
    "print(\"dataR[19][0]: \", dataR[19][0])\n",
    "print(\"dataR[20][0]: \", dataR[20][0])\n",
    "print(\"dataR[29][0]: \", dataR[29][0])\n",
    "print(\"dataR[30][0]: \", dataR[30][0])\n",
    "print(\"dataR[39][0]: \", dataR[39][0])\n",
    "print()\n",
    "print(\"target[0]: \", target[0])\n",
    "print(\"target[9]: \", target[9])\n",
    "print(\"target[10]: \", target[10])\n",
    "print(\"target[19]: \", target[19])\n",
    "print(\"target[20]: \", target[20])\n",
    "print(\"target[29]: \", target[29])\n",
    "print(\"target[30]: \", target[30])\n",
    "print(\"target[39]: \", target[39])"
   ]
  },
  {
   "cell_type": "code",
   "execution_count": null,
   "metadata": {},
   "outputs": [],
   "source": []
  },
  {
   "cell_type": "markdown",
   "metadata": {},
   "source": [
    "# Generating a Model using LR"
   ]
  },
  {
   "cell_type": "code",
   "execution_count": 28,
   "metadata": {},
   "outputs": [],
   "source": [
    "x, y = data, target"
   ]
  },
  {
   "cell_type": "code",
   "execution_count": 29,
   "metadata": {},
   "outputs": [
    {
     "data": {
      "text/plain": [
       "(40, 784)"
      ]
     },
     "execution_count": 29,
     "metadata": {},
     "output_type": "execute_result"
    }
   ],
   "source": [
    "x.shape"
   ]
  },
  {
   "cell_type": "code",
   "execution_count": 30,
   "metadata": {},
   "outputs": [
    {
     "data": {
      "text/plain": [
       "numpy.ndarray"
      ]
     },
     "execution_count": 30,
     "metadata": {},
     "output_type": "execute_result"
    }
   ],
   "source": [
    "type(x)"
   ]
  },
  {
   "cell_type": "code",
   "execution_count": 31,
   "metadata": {},
   "outputs": [
    {
     "data": {
      "text/plain": [
       "(40,)"
      ]
     },
     "execution_count": 31,
     "metadata": {},
     "output_type": "execute_result"
    }
   ],
   "source": [
    "y.shape"
   ]
  },
  {
   "cell_type": "code",
   "execution_count": 32,
   "metadata": {},
   "outputs": [
    {
     "data": {
      "text/plain": [
       "(40, 784)"
      ]
     },
     "execution_count": 32,
     "metadata": {},
     "output_type": "execute_result"
    }
   ],
   "source": [
    "x.shape"
   ]
  },
  {
   "cell_type": "code",
   "execution_count": 33,
   "metadata": {},
   "outputs": [
    {
     "name": "stdout",
     "output_type": "stream",
     "text": [
      "['plus' 'plus' 'plus' 'plus' 'plus' 'plus' 'plus' 'plus' 'plus' 'plus'\n",
      " 'minus' 'minus' 'minus' 'minus' 'minus' 'minus' 'minus' 'minus' 'minus'\n",
      " 'minus' 'multiply' 'multiply' 'multiply' 'multiply' 'multiply' 'multiply'\n",
      " 'multiply' 'multiply' 'multiply' 'multiply' 'divide' 'divide' 'divide'\n",
      " 'divide' 'divide' 'divide' 'divide' 'divide' 'divide' 'divide']\n"
     ]
    }
   ],
   "source": [
    "print(y)"
   ]
  },
  {
   "cell_type": "code",
   "execution_count": 34,
   "metadata": {},
   "outputs": [
    {
     "data": {
      "text/plain": [
       "numpy.str_"
      ]
     },
     "execution_count": 34,
     "metadata": {},
     "output_type": "execute_result"
    }
   ],
   "source": [
    "type(data[0][0])"
   ]
  },
  {
   "cell_type": "code",
   "execution_count": 35,
   "metadata": {},
   "outputs": [],
   "source": [
    "shuffled_index = np.random.permutation(39)\n",
    "x, y = x[shuffled_index], y[shuffled_index]"
   ]
  },
  {
   "cell_type": "code",
   "execution_count": 36,
   "metadata": {},
   "outputs": [],
   "source": [
    "X_train, X_test = x[:37], x[37:]\n",
    "y_train, y_test = y[:37], y[37:]"
   ]
  },
  {
   "cell_type": "code",
   "execution_count": 37,
   "metadata": {},
   "outputs": [
    {
     "name": "stdout",
     "output_type": "stream",
     "text": [
      "['minus' 'multiply' 'minus' 'multiply' 'multiply' 'multiply' 'multiply'\n",
      " 'divide' 'multiply' 'plus' 'minus' 'minus' 'divide' 'minus' 'minus'\n",
      " 'plus' 'minus' 'plus' 'minus' 'multiply' 'divide' 'plus' 'divide'\n",
      " 'divide' 'plus' 'plus' 'multiply' 'minus' 'multiply' 'minus' 'multiply'\n",
      " 'plus' 'divide' 'plus' 'divide' 'plus' 'divide' 'divide' 'plus']\n"
     ]
    }
   ],
   "source": [
    "print(y)"
   ]
  },
  {
   "cell_type": "markdown",
   "metadata": {},
   "source": [
    "# Creating a Plus Detector"
   ]
  },
  {
   "cell_type": "code",
   "execution_count": 38,
   "metadata": {},
   "outputs": [],
   "source": [
    "y_train_p = (y_train == 'plus')\n",
    "y_test_p = (y_test == 'plus')"
   ]
  },
  {
   "cell_type": "code",
   "execution_count": 39,
   "metadata": {},
   "outputs": [
    {
     "data": {
      "text/plain": [
       "(37,)"
      ]
     },
     "execution_count": 39,
     "metadata": {},
     "output_type": "execute_result"
    }
   ],
   "source": [
    "y_train_p.shape"
   ]
  },
  {
   "cell_type": "code",
   "execution_count": 40,
   "metadata": {},
   "outputs": [
    {
     "data": {
      "text/plain": [
       "array([False, False, False, False, False, False, False, False, False,\n",
       "        True, False, False, False, False, False,  True, False,  True,\n",
       "       False, False, False,  True, False, False,  True,  True, False,\n",
       "       False, False, False, False,  True, False,  True, False,  True,\n",
       "       False])"
      ]
     },
     "execution_count": 40,
     "metadata": {},
     "output_type": "execute_result"
    }
   ],
   "source": [
    "y_train_p"
   ]
  },
  {
   "cell_type": "code",
   "execution_count": 41,
   "metadata": {},
   "outputs": [],
   "source": [
    "from sklearn.linear_model import LogisticRegression"
   ]
  },
  {
   "cell_type": "code",
   "execution_count": 42,
   "metadata": {},
   "outputs": [],
   "source": [
    "lr = LogisticRegression()"
   ]
  },
  {
   "cell_type": "code",
   "execution_count": 43,
   "metadata": {},
   "outputs": [
    {
     "data": {
      "text/plain": [
       "LogisticRegression()"
      ]
     },
     "execution_count": 43,
     "metadata": {},
     "output_type": "execute_result"
    }
   ],
   "source": [
    "lr.fit(X_train, y_train_p)"
   ]
  },
  {
   "cell_type": "code",
   "execution_count": 44,
   "metadata": {},
   "outputs": [
    {
     "name": "stdout",
     "output_type": "stream",
     "text": [
      "multiply\n",
      "Prediction::  [False]\n"
     ]
    },
    {
     "data": {
      "text/plain": [
       "<matplotlib.image.AxesImage at 0x1d3f5adc1f0>"
      ]
     },
     "execution_count": 44,
     "metadata": {},
     "output_type": "execute_result"
    },
    {
     "data": {
      "image/png": "[encoded data removed]",
      "text/plain": [
       "<Figure size 432x288 with 1 Axes>"
      ]
     },
     "metadata": {
      "needs_background": "light"
     },
     "output_type": "display_data"
    }
   ],
   "source": [
    "some_digit = np.float64(x[5])\n",
    "some_digit_image = some_digit.reshape(28, 28)\n",
    "print(y[5])\n",
    "print(\"Prediction:: \", lr.predict([some_digit]))\n",
    "plt.imshow(some_digit_image)"
   ]
  },
  {
   "cell_type": "code",
   "execution_count": 47,
   "metadata": {},
   "outputs": [
    {
     "name": "stdout",
     "output_type": "stream",
     "text": [
      "minus\n",
      "Prediction::  [False]\n"
     ]
    },
    {
     "data": {
      "text/plain": [
       "<matplotlib.image.AxesImage at 0x1d3f5c50be0>"
      ]
     },
     "execution_count": 47,
     "metadata": {},
     "output_type": "execute_result"
    },
    {
     "data": {
      "image/png": "[encoded data removed]",
      "text/plain": [
       "<Figure size 432x288 with 1 Axes>"
      ]
     },
     "metadata": {
      "needs_background": "light"
     },
     "output_type": "display_data"
    }
   ],
   "source": [
    "some_digit = np.float64(x[16])\n",
    "some_digit_image = some_digit.reshape(28, 28)\n",
    "print(y[16])\n",
    "print(\"Prediction:: \", lr.predict([some_digit]))\n",
    "plt.imshow(some_digit_image)"
   ]
  },
  {
   "cell_type": "code",
   "execution_count": 52,
   "metadata": {},
   "outputs": [
    {
     "name": "stdout",
     "output_type": "stream",
     "text": [
      "plus\n",
      "Prediction::  [ True]\n"
     ]
    },
    {
     "data": {
      "text/plain": [
       "<matplotlib.image.AxesImage at 0x1d3f5d8ef40>"
      ]
     },
     "execution_count": 52,
     "metadata": {},
     "output_type": "execute_result"
    },
    {
     "data": {
      "image/png": "[encoded data removed]",
      "text/plain": [
       "<Figure size 432x288 with 1 Axes>"
      ]
     },
     "metadata": {
      "needs_background": "light"
     },
     "output_type": "display_data"
    }
   ],
   "source": [
    "some_digit = np.float64(x[9])\n",
    "some_digit_image = some_digit.reshape(28, 28)\n",
    "print(y[9])\n",
    "print(\"Prediction:: \", lr.predict([some_digit]))\n",
    "plt.imshow(some_digit_image)"
   ]
  }
 ],
 "metadata": {
  "kernelspec": {
   "display_name": "Python 3",
   "language": "python",
   "name": "python3"
  },
  "language_info": {
   "codemirror_mode": {
    "name": "ipython",
    "version": 3
   },
   "file_extension": ".py",
   "mimetype": "text/x-python",
   "name": "python",
   "nbconvert_exporter": "python",
   "pygments_lexer": "ipython3",
   "version": "3.8.3"
  }
 },
 "nbformat": 4,
 "nbformat_minor": 4
}
